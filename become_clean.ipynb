{
  "cells": [
    {
      "cell_type": "markdown",
      "metadata": {
        "id": "view-in-github",
        "colab_type": "text"
      },
      "source": [
        "<a href=\"https://colab.research.google.com/github/akshaygopan/BeComE-A-novel-framework-for-node-classification-in-social-graphs/blob/main/become_clean.ipynb\" target=\"_parent\"><img src=\"https://colab.research.google.com/assets/colab-badge.svg\" alt=\"Open In Colab\"/></a>"
      ]
    },
    {
      "cell_type": "markdown",
      "metadata": {
        "id": "nUwmEqpiKtnZ"
      },
      "source": [
        "# Imports and Installs"
      ]
    },
    {
      "cell_type": "code",
      "execution_count": null,
      "metadata": {
        "colab": {
          "background_save": true
        },
        "id": "hzZfUUG1mYz3"
      },
      "outputs": [],
      "source": [
        "%%capture\n",
        "#!pip install node2vec\n",
        "!pip install ampligraph\n",
        "!pip install sentence-transformers\n",
        "!pip install accelerate -U\n",
        "!pip install datasets"
      ]
    },
    {
      "cell_type": "code",
      "execution_count": null,
      "metadata": {
        "colab": {
          "background_save": true
        },
        "id": "4agMZmca5iAp"
      },
      "outputs": [],
      "source": [
        "import pandas as pd\n",
        "from sentence_transformers import SentenceTransformer\n",
        "from datasets import load_dataset\n",
        "from huggingface_hub import notebook_login\n",
        "from ampligraph.compat import ComplEx\n",
        "import numpy as np\n",
        "from sklearn import svm\n",
        "from sklearn.model_selection import GridSearchCV\n",
        "from sklearn.metrics import accuracy_score, precision_score, recall_score, f1_score, roc_auc_score, precision_recall_fscore_support, classification_report\n",
        "from sklearn.metrics import confusion_matrix"
      ]
    },
    {
      "cell_type": "markdown",
      "metadata": {
        "id": "K4zlXnJEJ_sh"
      },
      "source": [
        "# Semantic Embeddings"
      ]
    },
    {
      "cell_type": "code",
      "execution_count": null,
      "metadata": {
        "id": "uT2n9I5Azc8g"
      },
      "outputs": [],
      "source": [
        "def introduceLabelAwareness(text, label):\n",
        "  return  text + '<SEP>The label is ' + str(label)"
      ]
    },
    {
      "cell_type": "code",
      "execution_count": null,
      "metadata": {
        "id": "FSo_UsWv5n0f"
      },
      "outputs": [],
      "source": [
        "def getTextData(data, label_col):\n",
        "  datasets = {'cora': 'Akshayxx/CoraDatasetV6_Two', 'citeseer' :'Akshayxx/citeseerV1'}\n",
        "\n",
        "  dataset = load_dataset(datasets[data])\n",
        "\n",
        "  text_df_test = dataset['validation'].to_pandas()\n",
        "  text_df_train = dataset['train'].to_pandas()\n",
        "  text_df_train['text'] = text_df_train.apply(lambda x: introduceLabelAwareness(x['text'], x[label_col]), axis = 1)\n",
        "\n",
        "  return text_df_train, text_df_test"
      ]
    },
    {
      "cell_type": "code",
      "execution_count": null,
      "metadata": {
        "id": "nWyMz1o5zY4j"
      },
      "outputs": [],
      "source": [
        "def getTextModel(model_name = 'bert-base-nli-mean-tokens'): #Akshayxx/bert-base-cased-finetuned-cora\n",
        "\n",
        "    model = SentenceTransformer(model_name)\n",
        "    return model"
      ]
    },
    {
      "cell_type": "code",
      "execution_count": null,
      "metadata": {
        "id": "DD8AWHFRznNN"
      },
      "outputs": [],
      "source": [
        "def getTextEmbeddings(text_df_train, text_df_test, text_col = 'text', model_name = 'bert-base-nli-mean-tokens'):\n",
        "\n",
        "  model = getTextModel(model_name)\n",
        "  text_vecs_train = model.encode(text_df_train[text_col])\n",
        "  text_vecs_test = model.encode(text_df_test[text_col])\n",
        "\n",
        "  return text_vecs_train, text_vecs_test"
      ]
    },
    {
      "cell_type": "markdown",
      "metadata": {
        "id": "8D9E6VcqKEVn"
      },
      "source": [
        "# Structural Embeddings"
      ]
    },
    {
      "cell_type": "code",
      "execution_count": null,
      "metadata": {
        "id": "j3j7H_Tbzt2s"
      },
      "outputs": [],
      "source": [
        "def getCiteSeerEdges():\n",
        "\n",
        "  file_path= '/content/CiteSeer_original.cites'\n",
        "\n",
        "  with open(file_path, 'r') as file:\n",
        "        lines = file.readlines()\n",
        "\n",
        "  starts = []\n",
        "  dests = []\n",
        "\n",
        "  for i in lines:\n",
        "\n",
        "        cities = i.split()\n",
        "        starts.append(cities[0])\n",
        "        dests.append(cities[1])\n",
        "\n",
        "  edges = pd.DataFrame({\n",
        "          'source_id': starts,\n",
        "          'dest_id': dests\n",
        "      })\n",
        "\n",
        "  return edges"
      ]
    },
    {
      "cell_type": "code",
      "execution_count": null,
      "metadata": {
        "id": "-nYLvfUnEjFR"
      },
      "outputs": [],
      "source": [
        "def getCoraEdges():\n",
        "\n",
        "  edges = pd.read_csv('/content/df_cln2.csv')\n",
        "  return edges"
      ]
    },
    {
      "cell_type": "code",
      "execution_count": null,
      "metadata": {
        "id": "knyfUrFz0RuQ"
      },
      "outputs": [],
      "source": [
        "def getStructuralEmbeddings(text_df_train, text_df_test, edges, label_col):\n",
        "\n",
        "  df = pd.concat([text_df_train, text_df_test])\n",
        "  present = df.node_id.unique()\n",
        "  edges = edges[(edges['dest_id'].isin(present)) | (edges['source_id'].isin(present))]\n",
        "  edges_list = []\n",
        "\n",
        "  for row in range(len(edges)):\n",
        "\n",
        "    relation = -1\n",
        "    source = edges.iloc[row]['source_id']\n",
        "    dest = edges.iloc[row]['dest_id']\n",
        "\n",
        "    try:\n",
        "\n",
        "      source_label = df[df['node_id'] == source].iloc[0][label_col]\n",
        "      dest_label = df[df['node_id'] == dest].iloc[0][label_col]\n",
        "\n",
        "    except:\n",
        "\n",
        "      relation = -1\n",
        "\n",
        "    #if(source_label == dest_label):\n",
        "    relation = dest_label\n",
        "\n",
        "    #if(source in text_df_train.node_id.unique()):\n",
        "\n",
        "    #    relation = dest_label\n",
        "\n",
        "    #if(source in text_df_test.node_id.unique()):\n",
        "\n",
        "     #   relation = dest_label\n",
        "\n",
        "    #if(dest in text_df_test.node_id.unique()):\n",
        "    #    relation = -1\n",
        "\n",
        "\n",
        "    #if(source in text_df_test.node_id.unique()):\n",
        "    #    relation = -1\n",
        "\n",
        "    edge = [source, relation, dest]\n",
        "    edges_list.append(edge)\n",
        "\n",
        "  embeds_model = getStructualEmbeddingModel(edges_list)\n",
        "  node_embeddings_train = embeds_model.get_embeddings(text_df_train['node_id'].values, embedding_type='entity')\n",
        "  node_embeddings_test = embeds_model.get_embeddings(text_df_test['node_id'].values, embedding_type='entity')\n",
        "\n",
        "  return node_embeddings_train, node_embeddings_test"
      ]
    },
    {
      "cell_type": "code",
      "execution_count": null,
      "metadata": {
        "id": "bUIo0vxM9Qj4"
      },
      "outputs": [],
      "source": [
        "def getStructualEmbeddingModel(edges_list):\n",
        "\n",
        "  edges_list = np.array(edges_list)\n",
        "  embed_dim = 200\n",
        "  epochs =  200\n",
        "  batches_count = 250\n",
        "  verbose = True\n",
        "  optimizer = \"adam\"\n",
        "  optimizer_params = {'lr' :  0.001}\n",
        "  embeds_model = ComplEx(k = embed_dim, epochs =  epochs, batches_count =  batches_count, verbose=verbose, optimizer = optimizer, optimizer_params = optimizer_params)\n",
        "  #tf.compat.v1.logging.set_verbosity(tf.compat.v1.logging.ERROR)\n",
        "  embeds_model.fit(edges_list)\n",
        "\n",
        "  return embeds_model"
      ]
    },
    {
      "cell_type": "markdown",
      "metadata": {
        "id": "7X-A9tt0KJsV"
      },
      "source": [
        "# Labels"
      ]
    },
    {
      "cell_type": "code",
      "execution_count": null,
      "metadata": {
        "id": "8cNlerCt0qF3"
      },
      "outputs": [],
      "source": [
        "def getLabels(text_df_train, text_df_test, col):\n",
        "\n",
        "  labels_train = text_df_train[col].to_numpy()\n",
        "  labels_test = text_df_test[col].to_numpy()\n",
        "  labels_train = labels_train.reshape(-1, 1)\n",
        "  labels_test = labels_test.reshape(-1, 1)\n",
        "\n",
        "  return labels_train, labels_test"
      ]
    },
    {
      "cell_type": "markdown",
      "metadata": {
        "id": "0zSMOFmWKSi6"
      },
      "source": [
        "# Hybrid Embeddings"
      ]
    },
    {
      "cell_type": "code",
      "execution_count": null,
      "metadata": {
        "id": "_LDAe20P00St"
      },
      "outputs": [],
      "source": [
        "def getCombinedEmbeddings(text_vecs_train, node_embeddings_train, labels_train, text_vecs_test, node_embeddings_test, labels_test):\n",
        "\n",
        "  data_np_train = np.hstack((text_vecs_train, node_embeddings_train, labels_train))\n",
        "  data_np_test = np.hstack((text_vecs_test, node_embeddings_test, labels_test))\n",
        "\n",
        "  data_actual_train = pd.DataFrame(data_np_train)\n",
        "  data_actual_test = pd.DataFrame(data_np_test)\n",
        "\n",
        "  data_actual_train[data_actual_train.shape[1]-1] = data_actual_train[data_actual_train.shape[1]-1].astype(int)\n",
        "  data_actual_test[data_actual_test.shape[1]-1] = data_actual_test[data_actual_test.shape[1]-1].astype(int)\n",
        "\n",
        "  X_train = data_actual_train.drop(columns=[data_actual_train.shape[1]-1])\n",
        "  y_train = data_actual_train[data_actual_train.shape[1]-1]\n",
        "  X_test = data_actual_test.drop(columns=[data_actual_test.shape[1]-1])\n",
        "  y_test = data_actual_test[data_actual_test.shape[1]-1]\n",
        "\n",
        "  return X_train, y_train, X_test, y_test"
      ]
    },
    {
      "cell_type": "markdown",
      "metadata": {
        "id": "yxqYf6UkKWK1"
      },
      "source": [
        "# Evaluation"
      ]
    },
    {
      "cell_type": "code",
      "execution_count": null,
      "metadata": {
        "id": "lGVt2hn92RDJ"
      },
      "outputs": [],
      "source": [
        "def trainAndPredict(X_train, X_test, y_train, y_test):\n",
        "\n",
        "  # Initialize the SVM classifier (SVC) with an rbf kernel\n",
        "  clfi = svm.SVC(kernel='rbf', C = 10, gamma = 'auto')\n",
        "\n",
        "  # Train the SVM classifier using the training data\n",
        "  clfi.fit(X_train, y_train)\n",
        "\n",
        "  # Make predictions on the test data\n",
        "  y_pred = clfi.predict(X_test)\n",
        "\n",
        "  # Evaluate the classifier\n",
        "  accuracy = clfi.score(X_test, y_test)\n",
        "  print(\"Accuracy:\", accuracy)\n",
        "  preds = clfi.predict(X_test)\n",
        "  labels = y_test\n",
        "\n",
        "  return preds, labels"
      ]
    },
    {
      "cell_type": "code",
      "execution_count": null,
      "metadata": {
        "id": "IM6IYdAY0ATp"
      },
      "outputs": [],
      "source": [
        "from sklearn.metrics import roc_auc_score"
      ]
    },
    {
      "cell_type": "code",
      "execution_count": null,
      "metadata": {
        "id": "EhWO3-1q0a3W"
      },
      "outputs": [],
      "source": [
        "def calculate_tpr_fpr(y_real, y_pred):\n",
        "    '''\n",
        "    Calculates the True Positive Rate (tpr) and the True Negative Rate (fpr) based on real and predicted observations\n",
        "\n",
        "    Args:\n",
        "        y_real: The list or series with the real classes\n",
        "        y_pred: The list or series with the predicted classes\n",
        "\n",
        "    Returns:\n",
        "        tpr: The True Positive Rate of the classifier\n",
        "        fpr: The False Positive Rate of the classifier\n",
        "    '''\n",
        "\n",
        "    # Calculates the confusion matrix and recover each element\n",
        "    cm = confusion_matrix(y_real, y_pred)\n",
        "    TN = cm[0, 0]\n",
        "    FP = cm[0, 1]\n",
        "    FN = cm[1, 0]\n",
        "    TP = cm[1, 1]\n",
        "\n",
        "    # Calculates tpr and fpr\n",
        "    tpr =  TP/(TP + FN) # sensitivity - true positive rate\n",
        "    fpr = 1 - TN/(TN+FP) # 1-specificity - false positive rate\n",
        "\n",
        "    return tpr, fpr"
      ]
    },
    {
      "cell_type": "code",
      "execution_count": null,
      "metadata": {
        "id": "bsdiDWVQ0soQ"
      },
      "outputs": [],
      "source": [
        "def get_all_roc_coordinates(y_real, y_proba):\n",
        "    '''\n",
        "    Calculates all the ROC Curve coordinates (tpr and fpr) by considering each point as a threshold for the predicion of the class.\n",
        "\n",
        "    Args:\n",
        "        y_real: The list or series with the real classes.\n",
        "        y_proba: The array with the probabilities for each class, obtained by using the `.predict_proba()` method.\n",
        "\n",
        "    Returns:\n",
        "        tpr_list: The list of TPRs representing each threshold.\n",
        "        fpr_list: The list of FPRs representing each threshold.\n",
        "    '''\n",
        "    tpr_list = [0]\n",
        "    fpr_list = [0]\n",
        "    for i in range(len(y_proba)):\n",
        "        threshold = y_proba[i]\n",
        "        y_pred = y_proba >= threshold\n",
        "        tpr, fpr = calculate_tpr_fpr(y_real, y_pred)\n",
        "        tpr_list.append(tpr)\n",
        "        fpr_list.append(fpr)\n",
        "    return tpr_list, fpr_list"
      ]
    },
    {
      "cell_type": "code",
      "execution_count": null,
      "metadata": {
        "id": "xAHaRtfj0tUu"
      },
      "outputs": [],
      "source": []
    },
    {
      "cell_type": "code",
      "execution_count": null,
      "metadata": {
        "id": "gvO3x_vl1-Dp"
      },
      "outputs": [],
      "source": [
        "def getResults(preds, labels, num_classes, results, name):\n",
        "\n",
        "  y_pred = preds\n",
        "  # Compute accuracy\n",
        "\n",
        "  accuracy = accuracy_score(labels, y_pred)\n",
        "  cm = confusion_matrix(labels, y_pred)\n",
        "  # We will store the results in a dictionary for easy access later\n",
        "  per_class_accuracies = {}\n",
        "\n",
        "  # Calculate the accuracy for each one of our classes\n",
        "  for cls in range(0, num_classes):\n",
        "      # True negatives are all the samples that are not our current GT class (not the current row)\n",
        "      # and were not predicted as the current class (not the current column)\n",
        "      true_negatives = np.sum(np.delete(np.delete(cm, cls, axis=0), cls, axis=1))\n",
        "\n",
        "      # True positives are all the samples of our current GT class that were predicted as such\n",
        "      true_positives = cm[cls, cls]\n",
        "\n",
        "      # The accuracy for the current class is the ratio between correct predictions to all predictions\n",
        "      per_class_accuracies[cls] = (true_positives + true_negatives) / np.sum(cm)\n",
        "\n",
        "  #cm = cm.astype('float') / cm.sum(axis=1)[:, np.newaxis]\n",
        "\n",
        "  # Compute precision, recall, F1-score, support for each class\n",
        "  #acc = cm.diagonal()\n",
        "  precision, recall, f1, support = precision_recall_fscore_support(labels, y_pred, average=None)\n",
        "  # Compute micro-average F1-score and ROC AUC\n",
        "\n",
        "  f1_micro_average = f1_score(labels, y_pred, average='micro')\n",
        "  print(accuracy, precision, recall, f1, support, f1_micro_average)\n",
        "\n",
        "  row = {\"Name\": name, \"accuracy\":accuracy, \"precision\": '', \"recall\": '', \"f1\":'', \"support\":'', \"f1_micro_average\": f1_micro_average}\n",
        "  new_df = pd.DataFrame([row])\n",
        "  results = pd.concat([results, new_df])\n",
        "\n",
        "  for i in range(1, num_classes+1):\n",
        "\n",
        "    row = {\"Name\": \"Class\" + str(i), \"accuracy\": per_class_accuracies[i-1], \"precision\": precision[i-1], \"recall\": recall[i-1], \"f1\":f1[i-1], \"support\":support[i-1], \"f1_micro_average\":''}\n",
        "    new_df = pd.DataFrame([row])\n",
        "    results = pd.concat([results, new_df])\n",
        "\n",
        "  return results"
      ]
    },
    {
      "cell_type": "markdown",
      "metadata": {
        "id": "LfioJGXnKgPg"
      },
      "source": [
        "# Full Pipeline"
      ]
    },
    {
      "cell_type": "code",
      "execution_count": null,
      "metadata": {
        "id": "PRivpe7K1X_u"
      },
      "outputs": [],
      "source": [
        "def pipeline(data, results):\n",
        "\n",
        "  label_col = {'cora' : 'label', 'citeseer': 'encoded_labels'}\n",
        "  text_df_train, text_df_test = getTextData(data, label_col = label_col[data])\n",
        "  text_vecs_train, text_vecs_test = getTextEmbeddings(text_df_train, text_df_test, text_col = 'text', model_name = 'bert-base-nli-mean-tokens')\n",
        "\n",
        "  if(data =='cora'):\n",
        "      edges = getCoraEdges()\n",
        "  else:\n",
        "      edges = getCiteSeerEdges()\n",
        "\n",
        "  node_embeddings_train, node_embeddings_test = getStructuralEmbeddings(text_df_train, text_df_test, edges, label_col = label_col[data])\n",
        "  labels_train, labels_test = getLabels(text_df_train, text_df_test, col = label_col[data])\n",
        "  X_train, y_train, X_test, y_test = getCombinedEmbeddings(text_vecs_train, node_embeddings_train, labels_train, text_vecs_test, node_embeddings_test, labels_test)\n",
        "  preds, labels = trainAndPredict(X_train, X_test, y_train, y_test)\n",
        "  name = data + 'BERT + ComplEx + SVM'\n",
        "  results = getResults(preds, labels, len(y_train.unique()), results, name)\n",
        "\n",
        "  return results"
      ]
    },
    {
      "cell_type": "markdown",
      "metadata": {
        "id": "QZ5xXcQjKlrw"
      },
      "source": [
        "# Try it out!"
      ]
    },
    {
      "cell_type": "code",
      "execution_count": null,
      "metadata": {
        "colab": {
          "base_uri": "https://localhost:8080/",
          "height": 287,
          "referenced_widgets": [
            "b5af59dab887475795c40d9e85f3d5af",
            "1af56abb78354c489c18f23eaebb131d",
            "0ed6269483c245f3a14a66f70995856d",
            "922dc1d6141646eaa53f89db84fb68fe",
            "c60dafaa2bca4aedabc8cf9caf1b8cd5",
            "f03b53e1111e493dbd9d10a6e17f58a0",
            "d8c6e91ff4b747edab867b4a5b9188b6",
            "1e5e02e053f54300af67eaec7263d467",
            "8591105aa6d943d3ad39afb5d22836b7",
            "b5e3451f4bab4a43bb3d7cb19388dcdd",
            "0e18009fd5d14110b55897b5f33da2d4",
            "dabeb2ef23a146afbd05bcbbded25f1f",
            "223763666ab0473dad517a502da13f1c",
            "01073310f8ac42ceaa486ab227448f41",
            "03e0227fbbf3406ca09d4c9c0ee95d43",
            "17a271c8428c42efb4a6bd531ef247a9",
            "a2c49247c6054d849038700ff790611c",
            "499117d68acf4174ad003baae530936e",
            "75d40c4917c34f26b5054fe8a30a695c",
            "cf79fcf51ea54ef4a606b8b42a89d8f7",
            "c5ce4aaa1e3e4d3f81103ef0878c1fc5",
            "ddc0a4ce872c401ea6d9eaf5c71cacc8",
            "11f57cf11cc74637bdb6657cc7401bb4",
            "854574afca794ae8ab486773f5068da5",
            "4c33a893294045cb8bd4e8cea5350a1b",
            "c7c39461a7fe446ab5b86d090e3e6e66",
            "63e57382f17a427689f9394a7ee53413",
            "f379e745cbd343b3b6b3c21696cf22d1",
            "d6dd7bf707e948fd999f91541a374c69",
            "80b61d58071149bca7843a3c136ff94a",
            "793dc45531ac46d785d0b4aee5c31352",
            "52fc9f27afc446dcbe3d6084c9cd427b",
            "4d1856caab5f43999f989274893462bc",
            "d02c4681e79e42af9293c1063f721ebf",
            "426e6a9d5b6344d383ab295ceb53704b",
            "1e526ca18751432eb0de3bc1d6f42047",
            "7ea7aacbf8ca4864be578f731f7fd779",
            "25dc4d96a0014bfeadda61160739d44a",
            "883d8f3c9672492087fdaa0fea72758f",
            "002408f0d2b44fb8934d23c87c1f4532",
            "9b35b7a7093a48e1b591cc94f5b5ae9f",
            "8d233f6a9486460b95a1280fc5b7321e",
            "89df774f8da44aba9713b4019cc888fe",
            "ceab271eb8014e3889ee502d32b8cd74"
          ]
        },
        "id": "zuFOgrog3Iy4",
        "outputId": "24f141b4-5808-40c8-c657-96dde38e0052"
      },
      "outputs": [
        {
          "data": {
            "application/vnd.jupyter.widget-view+json": {
              "model_id": "b5af59dab887475795c40d9e85f3d5af",
              "version_major": 2,
              "version_minor": 0
            },
            "text/plain": [
              "Batches:   0%|          | 0/56 [00:00<?, ?it/s]"
            ]
          },
          "metadata": {},
          "output_type": "display_data"
        },
        {
          "data": {
            "application/vnd.jupyter.widget-view+json": {
              "model_id": "dabeb2ef23a146afbd05bcbbded25f1f",
              "version_major": 2,
              "version_minor": 0
            },
            "text/plain": [
              "Batches:   0%|          | 0/14 [00:00<?, ?it/s]"
            ]
          },
          "metadata": {},
          "output_type": "display_data"
        },
        {
          "name": "stdout",
          "output_type": "stream",
          "text": [
            "Accuracy: 0.7471783295711061\n",
            "0.7471783295711061 [0.67283951 0.87878788 0.75       0.7037037  0.89473684 0.72916667\n",
            " 0.88235294] [0.84496124 0.74358974 0.77142857 0.6440678  0.796875   0.68627451\n",
            " 0.48387097] [0.74914089 0.80555556 0.76056338 0.67256637 0.84297521 0.70707071\n",
            " 0.625     ] [129  39  70  59  64  51  31] 0.7471783295711061\n"
          ]
        },
        {
          "data": {
            "application/vnd.jupyter.widget-view+json": {
              "model_id": "11f57cf11cc74637bdb6657cc7401bb4",
              "version_major": 2,
              "version_minor": 0
            },
            "text/plain": [
              "Batches:   0%|          | 0/80 [00:00<?, ?it/s]"
            ]
          },
          "metadata": {},
          "output_type": "display_data"
        },
        {
          "data": {
            "application/vnd.jupyter.widget-view+json": {
              "model_id": "d02c4681e79e42af9293c1063f721ebf",
              "version_major": 2,
              "version_minor": 0
            },
            "text/plain": [
              "Batches:   0%|          | 0/20 [00:00<?, ?it/s]"
            ]
          },
          "metadata": {},
          "output_type": "display_data"
        },
        {
          "name": "stdout",
          "output_type": "stream",
          "text": [
            "Accuracy: 0.6959247648902821\n",
            "0.6959247648902821 [0.5        0.77235772 0.72340426 0.74390244 0.65986395 0.62992126] [0.1875     0.84070796 0.74452555 0.62244898 0.7578125  0.70175439] [0.27272727 0.80508475 0.73381295 0.67777778 0.70545455 0.66390041] [ 48 113 137  98 128 114] 0.6959247648902821\n"
          ]
        }
      ],
      "source": [
        "results = pd.DataFrame()\n",
        "data_list = ['cora', 'citeseer']\n",
        "for data in data_list:\n",
        "  results = pipeline(data, results)"
      ]
    },
    {
      "cell_type": "code",
      "execution_count": null,
      "metadata": {
        "id": "2sMo_Z_gGnFE"
      },
      "outputs": [],
      "source": [
        "results.to_excel('resultsQWW.xlsx')"
      ]
    },
    {
      "cell_type": "code",
      "execution_count": null,
      "metadata": {
        "id": "yQmF6oEpIBgt"
      },
      "outputs": [],
      "source": [
        "label_col = {'cora' : 'label', 'citeseer': 'encoded_labels'}\n",
        "text_df_train, text_df_test = getTextData(data, label_col = label_col[data])\n",
        "text_vecs_train, text_vecs_test = getTextEmbeddings(text_df_train, text_df_test, text_col = 'text', model_name = 'bert-base-nli-mean-tokens')\n",
        "if(data =='cora'):\n",
        "      edges = getCoraEdges()\n",
        "else:\n",
        "      edges = getCiteSeerEdges()\n",
        "\n",
        "node_embeddings_train, node_embeddings_test = getStructuralEmbeddings(text_df_train, text_df_test, edges, label_col = label_col[data])\n",
        "labels_train, labels_test = getLabels(text_df_train, text_df_test, col = label_col[data])\n",
        "X_train, y_train, X_test, y_test = getCombinedEmbeddings(text_vecs_train, node_embeddings_train, labels_train, text_vecs_test, node_embeddings_test, labels_test)\n",
        "preds, labels = trainAndPredict(X_train, X_test, y_train, y_test)\n",
        "name = data + 'BERT + ComplEx + SVM'\n",
        "results = getResults(preds, labels, len(y_train.unique()), results, name)"
      ]
    }
  ],
  "metadata": {
    "accelerator": "GPU",
    "colab": {
      "collapsed_sections": [
        "nUwmEqpiKtnZ",
        "K4zlXnJEJ_sh",
        "7X-A9tt0KJsV",
        "0zSMOFmWKSi6",
        "yxqYf6UkKWK1",
        "LfioJGXnKgPg"
      ],
      "gpuType": "T4",
      "provenance": [],
      "include_colab_link": true
    },
    "kernelspec": {
      "display_name": "Python 3",
      "name": "python3"
    },
    "language_info": {
      "name": "python"
    },
    "widgets": {
      "application/vnd.jupyter.widget-state+json": {
        "002408f0d2b44fb8934d23c87c1f4532": {
          "model_module": "@jupyter-widgets/controls",
          "model_module_version": "1.5.0",
          "model_name": "DescriptionStyleModel",
          "state": {
            "_model_module": "@jupyter-widgets/controls",
            "_model_module_version": "1.5.0",
            "_model_name": "DescriptionStyleModel",
            "_view_count": null,
            "_view_module": "@jupyter-widgets/base",
            "_view_module_version": "1.2.0",
            "_view_name": "StyleView",
            "description_width": ""
          }
        },
        "01073310f8ac42ceaa486ab227448f41": {
          "model_module": "@jupyter-widgets/controls",
          "model_module_version": "1.5.0",
          "model_name": "FloatProgressModel",
          "state": {
            "_dom_classes": [],
            "_model_module": "@jupyter-widgets/controls",
            "_model_module_version": "1.5.0",
            "_model_name": "FloatProgressModel",
            "_view_count": null,
            "_view_module": "@jupyter-widgets/controls",
            "_view_module_version": "1.5.0",
            "_view_name": "ProgressView",
            "bar_style": "success",
            "description": "",
            "description_tooltip": null,
            "layout": "IPY_MODEL_75d40c4917c34f26b5054fe8a30a695c",
            "max": 14,
            "min": 0,
            "orientation": "horizontal",
            "style": "IPY_MODEL_cf79fcf51ea54ef4a606b8b42a89d8f7",
            "value": 14
          }
        },
        "03e0227fbbf3406ca09d4c9c0ee95d43": {
          "model_module": "@jupyter-widgets/controls",
          "model_module_version": "1.5.0",
          "model_name": "HTMLModel",
          "state": {
            "_dom_classes": [],
            "_model_module": "@jupyter-widgets/controls",
            "_model_module_version": "1.5.0",
            "_model_name": "HTMLModel",
            "_view_count": null,
            "_view_module": "@jupyter-widgets/controls",
            "_view_module_version": "1.5.0",
            "_view_name": "HTMLView",
            "description": "",
            "description_tooltip": null,
            "layout": "IPY_MODEL_c5ce4aaa1e3e4d3f81103ef0878c1fc5",
            "placeholder": "​",
            "style": "IPY_MODEL_ddc0a4ce872c401ea6d9eaf5c71cacc8",
            "value": " 14/14 [00:02&lt;00:00,  6.98it/s]"
          }
        },
        "0e18009fd5d14110b55897b5f33da2d4": {
          "model_module": "@jupyter-widgets/controls",
          "model_module_version": "1.5.0",
          "model_name": "DescriptionStyleModel",
          "state": {
            "_model_module": "@jupyter-widgets/controls",
            "_model_module_version": "1.5.0",
            "_model_name": "DescriptionStyleModel",
            "_view_count": null,
            "_view_module": "@jupyter-widgets/base",
            "_view_module_version": "1.2.0",
            "_view_name": "StyleView",
            "description_width": ""
          }
        },
        "0ed6269483c245f3a14a66f70995856d": {
          "model_module": "@jupyter-widgets/controls",
          "model_module_version": "1.5.0",
          "model_name": "FloatProgressModel",
          "state": {
            "_dom_classes": [],
            "_model_module": "@jupyter-widgets/controls",
            "_model_module_version": "1.5.0",
            "_model_name": "FloatProgressModel",
            "_view_count": null,
            "_view_module": "@jupyter-widgets/controls",
            "_view_module_version": "1.5.0",
            "_view_name": "ProgressView",
            "bar_style": "success",
            "description": "",
            "description_tooltip": null,
            "layout": "IPY_MODEL_1e5e02e053f54300af67eaec7263d467",
            "max": 56,
            "min": 0,
            "orientation": "horizontal",
            "style": "IPY_MODEL_8591105aa6d943d3ad39afb5d22836b7",
            "value": 56
          }
        },
        "11f57cf11cc74637bdb6657cc7401bb4": {
          "model_module": "@jupyter-widgets/controls",
          "model_module_version": "1.5.0",
          "model_name": "HBoxModel",
          "state": {
            "_dom_classes": [],
            "_model_module": "@jupyter-widgets/controls",
            "_model_module_version": "1.5.0",
            "_model_name": "HBoxModel",
            "_view_count": null,
            "_view_module": "@jupyter-widgets/controls",
            "_view_module_version": "1.5.0",
            "_view_name": "HBoxView",
            "box_style": "",
            "children": [
              "IPY_MODEL_854574afca794ae8ab486773f5068da5",
              "IPY_MODEL_4c33a893294045cb8bd4e8cea5350a1b",
              "IPY_MODEL_c7c39461a7fe446ab5b86d090e3e6e66"
            ],
            "layout": "IPY_MODEL_63e57382f17a427689f9394a7ee53413"
          }
        },
        "17a271c8428c42efb4a6bd531ef247a9": {
          "model_module": "@jupyter-widgets/base",
          "model_module_version": "1.2.0",
          "model_name": "LayoutModel",
          "state": {
            "_model_module": "@jupyter-widgets/base",
            "_model_module_version": "1.2.0",
            "_model_name": "LayoutModel",
            "_view_count": null,
            "_view_module": "@jupyter-widgets/base",
            "_view_module_version": "1.2.0",
            "_view_name": "LayoutView",
            "align_content": null,
            "align_items": null,
            "align_self": null,
            "border": null,
            "bottom": null,
            "display": null,
            "flex": null,
            "flex_flow": null,
            "grid_area": null,
            "grid_auto_columns": null,
            "grid_auto_flow": null,
            "grid_auto_rows": null,
            "grid_column": null,
            "grid_gap": null,
            "grid_row": null,
            "grid_template_areas": null,
            "grid_template_columns": null,
            "grid_template_rows": null,
            "height": null,
            "justify_content": null,
            "justify_items": null,
            "left": null,
            "margin": null,
            "max_height": null,
            "max_width": null,
            "min_height": null,
            "min_width": null,
            "object_fit": null,
            "object_position": null,
            "order": null,
            "overflow": null,
            "overflow_x": null,
            "overflow_y": null,
            "padding": null,
            "right": null,
            "top": null,
            "visibility": null,
            "width": null
          }
        },
        "1af56abb78354c489c18f23eaebb131d": {
          "model_module": "@jupyter-widgets/controls",
          "model_module_version": "1.5.0",
          "model_name": "HTMLModel",
          "state": {
            "_dom_classes": [],
            "_model_module": "@jupyter-widgets/controls",
            "_model_module_version": "1.5.0",
            "_model_name": "HTMLModel",
            "_view_count": null,
            "_view_module": "@jupyter-widgets/controls",
            "_view_module_version": "1.5.0",
            "_view_name": "HTMLView",
            "description": "",
            "description_tooltip": null,
            "layout": "IPY_MODEL_f03b53e1111e493dbd9d10a6e17f58a0",
            "placeholder": "​",
            "style": "IPY_MODEL_d8c6e91ff4b747edab867b4a5b9188b6",
            "value": "Batches: 100%"
          }
        },
        "1e526ca18751432eb0de3bc1d6f42047": {
          "model_module": "@jupyter-widgets/controls",
          "model_module_version": "1.5.0",
          "model_name": "FloatProgressModel",
          "state": {
            "_dom_classes": [],
            "_model_module": "@jupyter-widgets/controls",
            "_model_module_version": "1.5.0",
            "_model_name": "FloatProgressModel",
            "_view_count": null,
            "_view_module": "@jupyter-widgets/controls",
            "_view_module_version": "1.5.0",
            "_view_name": "ProgressView",
            "bar_style": "success",
            "description": "",
            "description_tooltip": null,
            "layout": "IPY_MODEL_9b35b7a7093a48e1b591cc94f5b5ae9f",
            "max": 20,
            "min": 0,
            "orientation": "horizontal",
            "style": "IPY_MODEL_8d233f6a9486460b95a1280fc5b7321e",
            "value": 20
          }
        },
        "1e5e02e053f54300af67eaec7263d467": {
          "model_module": "@jupyter-widgets/base",
          "model_module_version": "1.2.0",
          "model_name": "LayoutModel",
          "state": {
            "_model_module": "@jupyter-widgets/base",
            "_model_module_version": "1.2.0",
            "_model_name": "LayoutModel",
            "_view_count": null,
            "_view_module": "@jupyter-widgets/base",
            "_view_module_version": "1.2.0",
            "_view_name": "LayoutView",
            "align_content": null,
            "align_items": null,
            "align_self": null,
            "border": null,
            "bottom": null,
            "display": null,
            "flex": null,
            "flex_flow": null,
            "grid_area": null,
            "grid_auto_columns": null,
            "grid_auto_flow": null,
            "grid_auto_rows": null,
            "grid_column": null,
            "grid_gap": null,
            "grid_row": null,
            "grid_template_areas": null,
            "grid_template_columns": null,
            "grid_template_rows": null,
            "height": null,
            "justify_content": null,
            "justify_items": null,
            "left": null,
            "margin": null,
            "max_height": null,
            "max_width": null,
            "min_height": null,
            "min_width": null,
            "object_fit": null,
            "object_position": null,
            "order": null,
            "overflow": null,
            "overflow_x": null,
            "overflow_y": null,
            "padding": null,
            "right": null,
            "top": null,
            "visibility": null,
            "width": null
          }
        },
        "223763666ab0473dad517a502da13f1c": {
          "model_module": "@jupyter-widgets/controls",
          "model_module_version": "1.5.0",
          "model_name": "HTMLModel",
          "state": {
            "_dom_classes": [],
            "_model_module": "@jupyter-widgets/controls",
            "_model_module_version": "1.5.0",
            "_model_name": "HTMLModel",
            "_view_count": null,
            "_view_module": "@jupyter-widgets/controls",
            "_view_module_version": "1.5.0",
            "_view_name": "HTMLView",
            "description": "",
            "description_tooltip": null,
            "layout": "IPY_MODEL_a2c49247c6054d849038700ff790611c",
            "placeholder": "​",
            "style": "IPY_MODEL_499117d68acf4174ad003baae530936e",
            "value": "Batches: 100%"
          }
        },
        "25dc4d96a0014bfeadda61160739d44a": {
          "model_module": "@jupyter-widgets/base",
          "model_module_version": "1.2.0",
          "model_name": "LayoutModel",
          "state": {
            "_model_module": "@jupyter-widgets/base",
            "_model_module_version": "1.2.0",
            "_model_name": "LayoutModel",
            "_view_count": null,
            "_view_module": "@jupyter-widgets/base",
            "_view_module_version": "1.2.0",
            "_view_name": "LayoutView",
            "align_content": null,
            "align_items": null,
            "align_self": null,
            "border": null,
            "bottom": null,
            "display": null,
            "flex": null,
            "flex_flow": null,
            "grid_area": null,
            "grid_auto_columns": null,
            "grid_auto_flow": null,
            "grid_auto_rows": null,
            "grid_column": null,
            "grid_gap": null,
            "grid_row": null,
            "grid_template_areas": null,
            "grid_template_columns": null,
            "grid_template_rows": null,
            "height": null,
            "justify_content": null,
            "justify_items": null,
            "left": null,
            "margin": null,
            "max_height": null,
            "max_width": null,
            "min_height": null,
            "min_width": null,
            "object_fit": null,
            "object_position": null,
            "order": null,
            "overflow": null,
            "overflow_x": null,
            "overflow_y": null,
            "padding": null,
            "right": null,
            "top": null,
            "visibility": null,
            "width": null
          }
        },
        "426e6a9d5b6344d383ab295ceb53704b": {
          "model_module": "@jupyter-widgets/controls",
          "model_module_version": "1.5.0",
          "model_name": "HTMLModel",
          "state": {
            "_dom_classes": [],
            "_model_module": "@jupyter-widgets/controls",
            "_model_module_version": "1.5.0",
            "_model_name": "HTMLModel",
            "_view_count": null,
            "_view_module": "@jupyter-widgets/controls",
            "_view_module_version": "1.5.0",
            "_view_name": "HTMLView",
            "description": "",
            "description_tooltip": null,
            "layout": "IPY_MODEL_883d8f3c9672492087fdaa0fea72758f",
            "placeholder": "​",
            "style": "IPY_MODEL_002408f0d2b44fb8934d23c87c1f4532",
            "value": "Batches: 100%"
          }
        },
        "499117d68acf4174ad003baae530936e": {
          "model_module": "@jupyter-widgets/controls",
          "model_module_version": "1.5.0",
          "model_name": "DescriptionStyleModel",
          "state": {
            "_model_module": "@jupyter-widgets/controls",
            "_model_module_version": "1.5.0",
            "_model_name": "DescriptionStyleModel",
            "_view_count": null,
            "_view_module": "@jupyter-widgets/base",
            "_view_module_version": "1.2.0",
            "_view_name": "StyleView",
            "description_width": ""
          }
        },
        "4c33a893294045cb8bd4e8cea5350a1b": {
          "model_module": "@jupyter-widgets/controls",
          "model_module_version": "1.5.0",
          "model_name": "FloatProgressModel",
          "state": {
            "_dom_classes": [],
            "_model_module": "@jupyter-widgets/controls",
            "_model_module_version": "1.5.0",
            "_model_name": "FloatProgressModel",
            "_view_count": null,
            "_view_module": "@jupyter-widgets/controls",
            "_view_module_version": "1.5.0",
            "_view_name": "ProgressView",
            "bar_style": "success",
            "description": "",
            "description_tooltip": null,
            "layout": "IPY_MODEL_80b61d58071149bca7843a3c136ff94a",
            "max": 80,
            "min": 0,
            "orientation": "horizontal",
            "style": "IPY_MODEL_793dc45531ac46d785d0b4aee5c31352",
            "value": 80
          }
        },
        "4d1856caab5f43999f989274893462bc": {
          "model_module": "@jupyter-widgets/controls",
          "model_module_version": "1.5.0",
          "model_name": "DescriptionStyleModel",
          "state": {
            "_model_module": "@jupyter-widgets/controls",
            "_model_module_version": "1.5.0",
            "_model_name": "DescriptionStyleModel",
            "_view_count": null,
            "_view_module": "@jupyter-widgets/base",
            "_view_module_version": "1.2.0",
            "_view_name": "StyleView",
            "description_width": ""
          }
        },
        "52fc9f27afc446dcbe3d6084c9cd427b": {
          "model_module": "@jupyter-widgets/base",
          "model_module_version": "1.2.0",
          "model_name": "LayoutModel",
          "state": {
            "_model_module": "@jupyter-widgets/base",
            "_model_module_version": "1.2.0",
            "_model_name": "LayoutModel",
            "_view_count": null,
            "_view_module": "@jupyter-widgets/base",
            "_view_module_version": "1.2.0",
            "_view_name": "LayoutView",
            "align_content": null,
            "align_items": null,
            "align_self": null,
            "border": null,
            "bottom": null,
            "display": null,
            "flex": null,
            "flex_flow": null,
            "grid_area": null,
            "grid_auto_columns": null,
            "grid_auto_flow": null,
            "grid_auto_rows": null,
            "grid_column": null,
            "grid_gap": null,
            "grid_row": null,
            "grid_template_areas": null,
            "grid_template_columns": null,
            "grid_template_rows": null,
            "height": null,
            "justify_content": null,
            "justify_items": null,
            "left": null,
            "margin": null,
            "max_height": null,
            "max_width": null,
            "min_height": null,
            "min_width": null,
            "object_fit": null,
            "object_position": null,
            "order": null,
            "overflow": null,
            "overflow_x": null,
            "overflow_y": null,
            "padding": null,
            "right": null,
            "top": null,
            "visibility": null,
            "width": null
          }
        },
        "63e57382f17a427689f9394a7ee53413": {
          "model_module": "@jupyter-widgets/base",
          "model_module_version": "1.2.0",
          "model_name": "LayoutModel",
          "state": {
            "_model_module": "@jupyter-widgets/base",
            "_model_module_version": "1.2.0",
            "_model_name": "LayoutModel",
            "_view_count": null,
            "_view_module": "@jupyter-widgets/base",
            "_view_module_version": "1.2.0",
            "_view_name": "LayoutView",
            "align_content": null,
            "align_items": null,
            "align_self": null,
            "border": null,
            "bottom": null,
            "display": null,
            "flex": null,
            "flex_flow": null,
            "grid_area": null,
            "grid_auto_columns": null,
            "grid_auto_flow": null,
            "grid_auto_rows": null,
            "grid_column": null,
            "grid_gap": null,
            "grid_row": null,
            "grid_template_areas": null,
            "grid_template_columns": null,
            "grid_template_rows": null,
            "height": null,
            "justify_content": null,
            "justify_items": null,
            "left": null,
            "margin": null,
            "max_height": null,
            "max_width": null,
            "min_height": null,
            "min_width": null,
            "object_fit": null,
            "object_position": null,
            "order": null,
            "overflow": null,
            "overflow_x": null,
            "overflow_y": null,
            "padding": null,
            "right": null,
            "top": null,
            "visibility": null,
            "width": null
          }
        },
        "75d40c4917c34f26b5054fe8a30a695c": {
          "model_module": "@jupyter-widgets/base",
          "model_module_version": "1.2.0",
          "model_name": "LayoutModel",
          "state": {
            "_model_module": "@jupyter-widgets/base",
            "_model_module_version": "1.2.0",
            "_model_name": "LayoutModel",
            "_view_count": null,
            "_view_module": "@jupyter-widgets/base",
            "_view_module_version": "1.2.0",
            "_view_name": "LayoutView",
            "align_content": null,
            "align_items": null,
            "align_self": null,
            "border": null,
            "bottom": null,
            "display": null,
            "flex": null,
            "flex_flow": null,
            "grid_area": null,
            "grid_auto_columns": null,
            "grid_auto_flow": null,
            "grid_auto_rows": null,
            "grid_column": null,
            "grid_gap": null,
            "grid_row": null,
            "grid_template_areas": null,
            "grid_template_columns": null,
            "grid_template_rows": null,
            "height": null,
            "justify_content": null,
            "justify_items": null,
            "left": null,
            "margin": null,
            "max_height": null,
            "max_width": null,
            "min_height": null,
            "min_width": null,
            "object_fit": null,
            "object_position": null,
            "order": null,
            "overflow": null,
            "overflow_x": null,
            "overflow_y": null,
            "padding": null,
            "right": null,
            "top": null,
            "visibility": null,
            "width": null
          }
        },
        "793dc45531ac46d785d0b4aee5c31352": {
          "model_module": "@jupyter-widgets/controls",
          "model_module_version": "1.5.0",
          "model_name": "ProgressStyleModel",
          "state": {
            "_model_module": "@jupyter-widgets/controls",
            "_model_module_version": "1.5.0",
            "_model_name": "ProgressStyleModel",
            "_view_count": null,
            "_view_module": "@jupyter-widgets/base",
            "_view_module_version": "1.2.0",
            "_view_name": "StyleView",
            "bar_color": null,
            "description_width": ""
          }
        },
        "7ea7aacbf8ca4864be578f731f7fd779": {
          "model_module": "@jupyter-widgets/controls",
          "model_module_version": "1.5.0",
          "model_name": "HTMLModel",
          "state": {
            "_dom_classes": [],
            "_model_module": "@jupyter-widgets/controls",
            "_model_module_version": "1.5.0",
            "_model_name": "HTMLModel",
            "_view_count": null,
            "_view_module": "@jupyter-widgets/controls",
            "_view_module_version": "1.5.0",
            "_view_name": "HTMLView",
            "description": "",
            "description_tooltip": null,
            "layout": "IPY_MODEL_89df774f8da44aba9713b4019cc888fe",
            "placeholder": "​",
            "style": "IPY_MODEL_ceab271eb8014e3889ee502d32b8cd74",
            "value": " 20/20 [00:04&lt;00:00,  4.77it/s]"
          }
        },
        "80b61d58071149bca7843a3c136ff94a": {
          "model_module": "@jupyter-widgets/base",
          "model_module_version": "1.2.0",
          "model_name": "LayoutModel",
          "state": {
            "_model_module": "@jupyter-widgets/base",
            "_model_module_version": "1.2.0",
            "_model_name": "LayoutModel",
            "_view_count": null,
            "_view_module": "@jupyter-widgets/base",
            "_view_module_version": "1.2.0",
            "_view_name": "LayoutView",
            "align_content": null,
            "align_items": null,
            "align_self": null,
            "border": null,
            "bottom": null,
            "display": null,
            "flex": null,
            "flex_flow": null,
            "grid_area": null,
            "grid_auto_columns": null,
            "grid_auto_flow": null,
            "grid_auto_rows": null,
            "grid_column": null,
            "grid_gap": null,
            "grid_row": null,
            "grid_template_areas": null,
            "grid_template_columns": null,
            "grid_template_rows": null,
            "height": null,
            "justify_content": null,
            "justify_items": null,
            "left": null,
            "margin": null,
            "max_height": null,
            "max_width": null,
            "min_height": null,
            "min_width": null,
            "object_fit": null,
            "object_position": null,
            "order": null,
            "overflow": null,
            "overflow_x": null,
            "overflow_y": null,
            "padding": null,
            "right": null,
            "top": null,
            "visibility": null,
            "width": null
          }
        },
        "854574afca794ae8ab486773f5068da5": {
          "model_module": "@jupyter-widgets/controls",
          "model_module_version": "1.5.0",
          "model_name": "HTMLModel",
          "state": {
            "_dom_classes": [],
            "_model_module": "@jupyter-widgets/controls",
            "_model_module_version": "1.5.0",
            "_model_name": "HTMLModel",
            "_view_count": null,
            "_view_module": "@jupyter-widgets/controls",
            "_view_module_version": "1.5.0",
            "_view_name": "HTMLView",
            "description": "",
            "description_tooltip": null,
            "layout": "IPY_MODEL_f379e745cbd343b3b6b3c21696cf22d1",
            "placeholder": "​",
            "style": "IPY_MODEL_d6dd7bf707e948fd999f91541a374c69",
            "value": "Batches: 100%"
          }
        },
        "8591105aa6d943d3ad39afb5d22836b7": {
          "model_module": "@jupyter-widgets/controls",
          "model_module_version": "1.5.0",
          "model_name": "ProgressStyleModel",
          "state": {
            "_model_module": "@jupyter-widgets/controls",
            "_model_module_version": "1.5.0",
            "_model_name": "ProgressStyleModel",
            "_view_count": null,
            "_view_module": "@jupyter-widgets/base",
            "_view_module_version": "1.2.0",
            "_view_name": "StyleView",
            "bar_color": null,
            "description_width": ""
          }
        },
        "883d8f3c9672492087fdaa0fea72758f": {
          "model_module": "@jupyter-widgets/base",
          "model_module_version": "1.2.0",
          "model_name": "LayoutModel",
          "state": {
            "_model_module": "@jupyter-widgets/base",
            "_model_module_version": "1.2.0",
            "_model_name": "LayoutModel",
            "_view_count": null,
            "_view_module": "@jupyter-widgets/base",
            "_view_module_version": "1.2.0",
            "_view_name": "LayoutView",
            "align_content": null,
            "align_items": null,
            "align_self": null,
            "border": null,
            "bottom": null,
            "display": null,
            "flex": null,
            "flex_flow": null,
            "grid_area": null,
            "grid_auto_columns": null,
            "grid_auto_flow": null,
            "grid_auto_rows": null,
            "grid_column": null,
            "grid_gap": null,
            "grid_row": null,
            "grid_template_areas": null,
            "grid_template_columns": null,
            "grid_template_rows": null,
            "height": null,
            "justify_content": null,
            "justify_items": null,
            "left": null,
            "margin": null,
            "max_height": null,
            "max_width": null,
            "min_height": null,
            "min_width": null,
            "object_fit": null,
            "object_position": null,
            "order": null,
            "overflow": null,
            "overflow_x": null,
            "overflow_y": null,
            "padding": null,
            "right": null,
            "top": null,
            "visibility": null,
            "width": null
          }
        },
        "89df774f8da44aba9713b4019cc888fe": {
          "model_module": "@jupyter-widgets/base",
          "model_module_version": "1.2.0",
          "model_name": "LayoutModel",
          "state": {
            "_model_module": "@jupyter-widgets/base",
            "_model_module_version": "1.2.0",
            "_model_name": "LayoutModel",
            "_view_count": null,
            "_view_module": "@jupyter-widgets/base",
            "_view_module_version": "1.2.0",
            "_view_name": "LayoutView",
            "align_content": null,
            "align_items": null,
            "align_self": null,
            "border": null,
            "bottom": null,
            "display": null,
            "flex": null,
            "flex_flow": null,
            "grid_area": null,
            "grid_auto_columns": null,
            "grid_auto_flow": null,
            "grid_auto_rows": null,
            "grid_column": null,
            "grid_gap": null,
            "grid_row": null,
            "grid_template_areas": null,
            "grid_template_columns": null,
            "grid_template_rows": null,
            "height": null,
            "justify_content": null,
            "justify_items": null,
            "left": null,
            "margin": null,
            "max_height": null,
            "max_width": null,
            "min_height": null,
            "min_width": null,
            "object_fit": null,
            "object_position": null,
            "order": null,
            "overflow": null,
            "overflow_x": null,
            "overflow_y": null,
            "padding": null,
            "right": null,
            "top": null,
            "visibility": null,
            "width": null
          }
        },
        "8d233f6a9486460b95a1280fc5b7321e": {
          "model_module": "@jupyter-widgets/controls",
          "model_module_version": "1.5.0",
          "model_name": "ProgressStyleModel",
          "state": {
            "_model_module": "@jupyter-widgets/controls",
            "_model_module_version": "1.5.0",
            "_model_name": "ProgressStyleModel",
            "_view_count": null,
            "_view_module": "@jupyter-widgets/base",
            "_view_module_version": "1.2.0",
            "_view_name": "StyleView",
            "bar_color": null,
            "description_width": ""
          }
        },
        "922dc1d6141646eaa53f89db84fb68fe": {
          "model_module": "@jupyter-widgets/controls",
          "model_module_version": "1.5.0",
          "model_name": "HTMLModel",
          "state": {
            "_dom_classes": [],
            "_model_module": "@jupyter-widgets/controls",
            "_model_module_version": "1.5.0",
            "_model_name": "HTMLModel",
            "_view_count": null,
            "_view_module": "@jupyter-widgets/controls",
            "_view_module_version": "1.5.0",
            "_view_name": "HTMLView",
            "description": "",
            "description_tooltip": null,
            "layout": "IPY_MODEL_b5e3451f4bab4a43bb3d7cb19388dcdd",
            "placeholder": "​",
            "style": "IPY_MODEL_0e18009fd5d14110b55897b5f33da2d4",
            "value": " 56/56 [00:10&lt;00:00,  7.68it/s]"
          }
        },
        "9b35b7a7093a48e1b591cc94f5b5ae9f": {
          "model_module": "@jupyter-widgets/base",
          "model_module_version": "1.2.0",
          "model_name": "LayoutModel",
          "state": {
            "_model_module": "@jupyter-widgets/base",
            "_model_module_version": "1.2.0",
            "_model_name": "LayoutModel",
            "_view_count": null,
            "_view_module": "@jupyter-widgets/base",
            "_view_module_version": "1.2.0",
            "_view_name": "LayoutView",
            "align_content": null,
            "align_items": null,
            "align_self": null,
            "border": null,
            "bottom": null,
            "display": null,
            "flex": null,
            "flex_flow": null,
            "grid_area": null,
            "grid_auto_columns": null,
            "grid_auto_flow": null,
            "grid_auto_rows": null,
            "grid_column": null,
            "grid_gap": null,
            "grid_row": null,
            "grid_template_areas": null,
            "grid_template_columns": null,
            "grid_template_rows": null,
            "height": null,
            "justify_content": null,
            "justify_items": null,
            "left": null,
            "margin": null,
            "max_height": null,
            "max_width": null,
            "min_height": null,
            "min_width": null,
            "object_fit": null,
            "object_position": null,
            "order": null,
            "overflow": null,
            "overflow_x": null,
            "overflow_y": null,
            "padding": null,
            "right": null,
            "top": null,
            "visibility": null,
            "width": null
          }
        },
        "a2c49247c6054d849038700ff790611c": {
          "model_module": "@jupyter-widgets/base",
          "model_module_version": "1.2.0",
          "model_name": "LayoutModel",
          "state": {
            "_model_module": "@jupyter-widgets/base",
            "_model_module_version": "1.2.0",
            "_model_name": "LayoutModel",
            "_view_count": null,
            "_view_module": "@jupyter-widgets/base",
            "_view_module_version": "1.2.0",
            "_view_name": "LayoutView",
            "align_content": null,
            "align_items": null,
            "align_self": null,
            "border": null,
            "bottom": null,
            "display": null,
            "flex": null,
            "flex_flow": null,
            "grid_area": null,
            "grid_auto_columns": null,
            "grid_auto_flow": null,
            "grid_auto_rows": null,
            "grid_column": null,
            "grid_gap": null,
            "grid_row": null,
            "grid_template_areas": null,
            "grid_template_columns": null,
            "grid_template_rows": null,
            "height": null,
            "justify_content": null,
            "justify_items": null,
            "left": null,
            "margin": null,
            "max_height": null,
            "max_width": null,
            "min_height": null,
            "min_width": null,
            "object_fit": null,
            "object_position": null,
            "order": null,
            "overflow": null,
            "overflow_x": null,
            "overflow_y": null,
            "padding": null,
            "right": null,
            "top": null,
            "visibility": null,
            "width": null
          }
        },
        "b5af59dab887475795c40d9e85f3d5af": {
          "model_module": "@jupyter-widgets/controls",
          "model_module_version": "1.5.0",
          "model_name": "HBoxModel",
          "state": {
            "_dom_classes": [],
            "_model_module": "@jupyter-widgets/controls",
            "_model_module_version": "1.5.0",
            "_model_name": "HBoxModel",
            "_view_count": null,
            "_view_module": "@jupyter-widgets/controls",
            "_view_module_version": "1.5.0",
            "_view_name": "HBoxView",
            "box_style": "",
            "children": [
              "IPY_MODEL_1af56abb78354c489c18f23eaebb131d",
              "IPY_MODEL_0ed6269483c245f3a14a66f70995856d",
              "IPY_MODEL_922dc1d6141646eaa53f89db84fb68fe"
            ],
            "layout": "IPY_MODEL_c60dafaa2bca4aedabc8cf9caf1b8cd5"
          }
        },
        "b5e3451f4bab4a43bb3d7cb19388dcdd": {
          "model_module": "@jupyter-widgets/base",
          "model_module_version": "1.2.0",
          "model_name": "LayoutModel",
          "state": {
            "_model_module": "@jupyter-widgets/base",
            "_model_module_version": "1.2.0",
            "_model_name": "LayoutModel",
            "_view_count": null,
            "_view_module": "@jupyter-widgets/base",
            "_view_module_version": "1.2.0",
            "_view_name": "LayoutView",
            "align_content": null,
            "align_items": null,
            "align_self": null,
            "border": null,
            "bottom": null,
            "display": null,
            "flex": null,
            "flex_flow": null,
            "grid_area": null,
            "grid_auto_columns": null,
            "grid_auto_flow": null,
            "grid_auto_rows": null,
            "grid_column": null,
            "grid_gap": null,
            "grid_row": null,
            "grid_template_areas": null,
            "grid_template_columns": null,
            "grid_template_rows": null,
            "height": null,
            "justify_content": null,
            "justify_items": null,
            "left": null,
            "margin": null,
            "max_height": null,
            "max_width": null,
            "min_height": null,
            "min_width": null,
            "object_fit": null,
            "object_position": null,
            "order": null,
            "overflow": null,
            "overflow_x": null,
            "overflow_y": null,
            "padding": null,
            "right": null,
            "top": null,
            "visibility": null,
            "width": null
          }
        },
        "c5ce4aaa1e3e4d3f81103ef0878c1fc5": {
          "model_module": "@jupyter-widgets/base",
          "model_module_version": "1.2.0",
          "model_name": "LayoutModel",
          "state": {
            "_model_module": "@jupyter-widgets/base",
            "_model_module_version": "1.2.0",
            "_model_name": "LayoutModel",
            "_view_count": null,
            "_view_module": "@jupyter-widgets/base",
            "_view_module_version": "1.2.0",
            "_view_name": "LayoutView",
            "align_content": null,
            "align_items": null,
            "align_self": null,
            "border": null,
            "bottom": null,
            "display": null,
            "flex": null,
            "flex_flow": null,
            "grid_area": null,
            "grid_auto_columns": null,
            "grid_auto_flow": null,
            "grid_auto_rows": null,
            "grid_column": null,
            "grid_gap": null,
            "grid_row": null,
            "grid_template_areas": null,
            "grid_template_columns": null,
            "grid_template_rows": null,
            "height": null,
            "justify_content": null,
            "justify_items": null,
            "left": null,
            "margin": null,
            "max_height": null,
            "max_width": null,
            "min_height": null,
            "min_width": null,
            "object_fit": null,
            "object_position": null,
            "order": null,
            "overflow": null,
            "overflow_x": null,
            "overflow_y": null,
            "padding": null,
            "right": null,
            "top": null,
            "visibility": null,
            "width": null
          }
        },
        "c60dafaa2bca4aedabc8cf9caf1b8cd5": {
          "model_module": "@jupyter-widgets/base",
          "model_module_version": "1.2.0",
          "model_name": "LayoutModel",
          "state": {
            "_model_module": "@jupyter-widgets/base",
            "_model_module_version": "1.2.0",
            "_model_name": "LayoutModel",
            "_view_count": null,
            "_view_module": "@jupyter-widgets/base",
            "_view_module_version": "1.2.0",
            "_view_name": "LayoutView",
            "align_content": null,
            "align_items": null,
            "align_self": null,
            "border": null,
            "bottom": null,
            "display": null,
            "flex": null,
            "flex_flow": null,
            "grid_area": null,
            "grid_auto_columns": null,
            "grid_auto_flow": null,
            "grid_auto_rows": null,
            "grid_column": null,
            "grid_gap": null,
            "grid_row": null,
            "grid_template_areas": null,
            "grid_template_columns": null,
            "grid_template_rows": null,
            "height": null,
            "justify_content": null,
            "justify_items": null,
            "left": null,
            "margin": null,
            "max_height": null,
            "max_width": null,
            "min_height": null,
            "min_width": null,
            "object_fit": null,
            "object_position": null,
            "order": null,
            "overflow": null,
            "overflow_x": null,
            "overflow_y": null,
            "padding": null,
            "right": null,
            "top": null,
            "visibility": null,
            "width": null
          }
        },
        "c7c39461a7fe446ab5b86d090e3e6e66": {
          "model_module": "@jupyter-widgets/controls",
          "model_module_version": "1.5.0",
          "model_name": "HTMLModel",
          "state": {
            "_dom_classes": [],
            "_model_module": "@jupyter-widgets/controls",
            "_model_module_version": "1.5.0",
            "_model_name": "HTMLModel",
            "_view_count": null,
            "_view_module": "@jupyter-widgets/controls",
            "_view_module_version": "1.5.0",
            "_view_name": "HTMLView",
            "description": "",
            "description_tooltip": null,
            "layout": "IPY_MODEL_52fc9f27afc446dcbe3d6084c9cd427b",
            "placeholder": "​",
            "style": "IPY_MODEL_4d1856caab5f43999f989274893462bc",
            "value": " 80/80 [00:17&lt;00:00,  5.71it/s]"
          }
        },
        "ceab271eb8014e3889ee502d32b8cd74": {
          "model_module": "@jupyter-widgets/controls",
          "model_module_version": "1.5.0",
          "model_name": "DescriptionStyleModel",
          "state": {
            "_model_module": "@jupyter-widgets/controls",
            "_model_module_version": "1.5.0",
            "_model_name": "DescriptionStyleModel",
            "_view_count": null,
            "_view_module": "@jupyter-widgets/base",
            "_view_module_version": "1.2.0",
            "_view_name": "StyleView",
            "description_width": ""
          }
        },
        "cf79fcf51ea54ef4a606b8b42a89d8f7": {
          "model_module": "@jupyter-widgets/controls",
          "model_module_version": "1.5.0",
          "model_name": "ProgressStyleModel",
          "state": {
            "_model_module": "@jupyter-widgets/controls",
            "_model_module_version": "1.5.0",
            "_model_name": "ProgressStyleModel",
            "_view_count": null,
            "_view_module": "@jupyter-widgets/base",
            "_view_module_version": "1.2.0",
            "_view_name": "StyleView",
            "bar_color": null,
            "description_width": ""
          }
        },
        "d02c4681e79e42af9293c1063f721ebf": {
          "model_module": "@jupyter-widgets/controls",
          "model_module_version": "1.5.0",
          "model_name": "HBoxModel",
          "state": {
            "_dom_classes": [],
            "_model_module": "@jupyter-widgets/controls",
            "_model_module_version": "1.5.0",
            "_model_name": "HBoxModel",
            "_view_count": null,
            "_view_module": "@jupyter-widgets/controls",
            "_view_module_version": "1.5.0",
            "_view_name": "HBoxView",
            "box_style": "",
            "children": [
              "IPY_MODEL_426e6a9d5b6344d383ab295ceb53704b",
              "IPY_MODEL_1e526ca18751432eb0de3bc1d6f42047",
              "IPY_MODEL_7ea7aacbf8ca4864be578f731f7fd779"
            ],
            "layout": "IPY_MODEL_25dc4d96a0014bfeadda61160739d44a"
          }
        },
        "d6dd7bf707e948fd999f91541a374c69": {
          "model_module": "@jupyter-widgets/controls",
          "model_module_version": "1.5.0",
          "model_name": "DescriptionStyleModel",
          "state": {
            "_model_module": "@jupyter-widgets/controls",
            "_model_module_version": "1.5.0",
            "_model_name": "DescriptionStyleModel",
            "_view_count": null,
            "_view_module": "@jupyter-widgets/base",
            "_view_module_version": "1.2.0",
            "_view_name": "StyleView",
            "description_width": ""
          }
        },
        "d8c6e91ff4b747edab867b4a5b9188b6": {
          "model_module": "@jupyter-widgets/controls",
          "model_module_version": "1.5.0",
          "model_name": "DescriptionStyleModel",
          "state": {
            "_model_module": "@jupyter-widgets/controls",
            "_model_module_version": "1.5.0",
            "_model_name": "DescriptionStyleModel",
            "_view_count": null,
            "_view_module": "@jupyter-widgets/base",
            "_view_module_version": "1.2.0",
            "_view_name": "StyleView",
            "description_width": ""
          }
        },
        "dabeb2ef23a146afbd05bcbbded25f1f": {
          "model_module": "@jupyter-widgets/controls",
          "model_module_version": "1.5.0",
          "model_name": "HBoxModel",
          "state": {
            "_dom_classes": [],
            "_model_module": "@jupyter-widgets/controls",
            "_model_module_version": "1.5.0",
            "_model_name": "HBoxModel",
            "_view_count": null,
            "_view_module": "@jupyter-widgets/controls",
            "_view_module_version": "1.5.0",
            "_view_name": "HBoxView",
            "box_style": "",
            "children": [
              "IPY_MODEL_223763666ab0473dad517a502da13f1c",
              "IPY_MODEL_01073310f8ac42ceaa486ab227448f41",
              "IPY_MODEL_03e0227fbbf3406ca09d4c9c0ee95d43"
            ],
            "layout": "IPY_MODEL_17a271c8428c42efb4a6bd531ef247a9"
          }
        },
        "ddc0a4ce872c401ea6d9eaf5c71cacc8": {
          "model_module": "@jupyter-widgets/controls",
          "model_module_version": "1.5.0",
          "model_name": "DescriptionStyleModel",
          "state": {
            "_model_module": "@jupyter-widgets/controls",
            "_model_module_version": "1.5.0",
            "_model_name": "DescriptionStyleModel",
            "_view_count": null,
            "_view_module": "@jupyter-widgets/base",
            "_view_module_version": "1.2.0",
            "_view_name": "StyleView",
            "description_width": ""
          }
        },
        "f03b53e1111e493dbd9d10a6e17f58a0": {
          "model_module": "@jupyter-widgets/base",
          "model_module_version": "1.2.0",
          "model_name": "LayoutModel",
          "state": {
            "_model_module": "@jupyter-widgets/base",
            "_model_module_version": "1.2.0",
            "_model_name": "LayoutModel",
            "_view_count": null,
            "_view_module": "@jupyter-widgets/base",
            "_view_module_version": "1.2.0",
            "_view_name": "LayoutView",
            "align_content": null,
            "align_items": null,
            "align_self": null,
            "border": null,
            "bottom": null,
            "display": null,
            "flex": null,
            "flex_flow": null,
            "grid_area": null,
            "grid_auto_columns": null,
            "grid_auto_flow": null,
            "grid_auto_rows": null,
            "grid_column": null,
            "grid_gap": null,
            "grid_row": null,
            "grid_template_areas": null,
            "grid_template_columns": null,
            "grid_template_rows": null,
            "height": null,
            "justify_content": null,
            "justify_items": null,
            "left": null,
            "margin": null,
            "max_height": null,
            "max_width": null,
            "min_height": null,
            "min_width": null,
            "object_fit": null,
            "object_position": null,
            "order": null,
            "overflow": null,
            "overflow_x": null,
            "overflow_y": null,
            "padding": null,
            "right": null,
            "top": null,
            "visibility": null,
            "width": null
          }
        },
        "f379e745cbd343b3b6b3c21696cf22d1": {
          "model_module": "@jupyter-widgets/base",
          "model_module_version": "1.2.0",
          "model_name": "LayoutModel",
          "state": {
            "_model_module": "@jupyter-widgets/base",
            "_model_module_version": "1.2.0",
            "_model_name": "LayoutModel",
            "_view_count": null,
            "_view_module": "@jupyter-widgets/base",
            "_view_module_version": "1.2.0",
            "_view_name": "LayoutView",
            "align_content": null,
            "align_items": null,
            "align_self": null,
            "border": null,
            "bottom": null,
            "display": null,
            "flex": null,
            "flex_flow": null,
            "grid_area": null,
            "grid_auto_columns": null,
            "grid_auto_flow": null,
            "grid_auto_rows": null,
            "grid_column": null,
            "grid_gap": null,
            "grid_row": null,
            "grid_template_areas": null,
            "grid_template_columns": null,
            "grid_template_rows": null,
            "height": null,
            "justify_content": null,
            "justify_items": null,
            "left": null,
            "margin": null,
            "max_height": null,
            "max_width": null,
            "min_height": null,
            "min_width": null,
            "object_fit": null,
            "object_position": null,
            "order": null,
            "overflow": null,
            "overflow_x": null,
            "overflow_y": null,
            "padding": null,
            "right": null,
            "top": null,
            "visibility": null,
            "width": null
          }
        }
      }
    }
  },
  "nbformat": 4,
  "nbformat_minor": 0
}