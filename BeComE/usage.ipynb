{
 "cells": [
  {
   "cell_type": "code",
   "execution_count": 1,
   "metadata": {},
   "outputs": [
    {
     "name": "stderr",
     "output_type": "stream",
     "text": [
      "/Users/akshaygopan/Learning - Projects/BeComE-A-novel-framework-for-node-classification-in-social-graphs/.venv/lib/python3.11/site-packages/sentence_transformers/cross_encoder/CrossEncoder.py:11: TqdmWarning: IProgress not found. Please update jupyter and ipywidgets. See https://ipywidgets.readthedocs.io/en/stable/user_install.html\n",
      "  from tqdm.autonotebook import tqdm, trange\n"
     ]
    }
   ],
   "source": [
    "from pipeline import Pipeline\n",
    "import pandas as pd"
   ]
  },
  {
   "cell_type": "code",
   "execution_count": 2,
   "metadata": {},
   "outputs": [
    {
     "name": "stderr",
     "output_type": "stream",
     "text": [
      "Downloading readme: 100%|██████████| 456/456 [00:00<00:00, 543kB/s]\n",
      "Downloading data: 100%|██████████| 710k/710k [00:00<00:00, 1.50MB/s]\n",
      "Downloading data: 100%|██████████| 184k/184k [00:00<00:00, 1.10MB/s]\n",
      "Generating train split: 100%|██████████| 1768/1768 [00:00<00:00, 120354.62 examples/s]\n",
      "Generating validation split: 100%|██████████| 443/443 [00:00<00:00, 116669.39 examples/s]\n",
      "Batches: 100%|██████████| 56/56 [00:24<00:00,  2.27it/s]\n",
      "Batches: 100%|██████████| 14/14 [00:05<00:00,  2.47it/s]\n"
     ]
    },
    {
     "name": "stdout",
     "output_type": "stream",
     "text": [
      "WARNING - At this time, the v2.11+ optimizer `tf.keras.optimizers.Adam` runs slowly on M1/M2 Macs, please use the legacy TF-Keras optimizer instead, located at `tf.keras.optimizers.legacy.Adam`.\n"
     ]
    }
   ],
   "source": [
    "results = pd.DataFrame()\n",
    "data_list = ['cora', 'citeseer']\n",
    "for data in data_list:\n",
    "  results = Pipeline.pipeline(data, results)"
   ]
  },
  {
   "cell_type": "code",
   "execution_count": null,
   "metadata": {},
   "outputs": [],
   "source": []
  }
 ],
 "metadata": {
  "kernelspec": {
   "display_name": ".venv",
   "language": "python",
   "name": "python3"
  },
  "language_info": {
   "codemirror_mode": {
    "name": "ipython",
    "version": 3
   },
   "file_extension": ".py",
   "mimetype": "text/x-python",
   "name": "python",
   "nbconvert_exporter": "python",
   "pygments_lexer": "ipython3",
   "version": "3.11.2"
  }
 },
 "nbformat": 4,
 "nbformat_minor": 2
}
